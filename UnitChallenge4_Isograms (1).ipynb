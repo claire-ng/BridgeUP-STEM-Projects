{
  "nbformat": 4,
  "nbformat_minor": 0,
  "metadata": {
    "colab": {
      "name": "UnitChallenge4_Isograms.ipynb",
      "provenance": [],
      "collapsed_sections": []
    },
    "kernelspec": {
      "display_name": "Python 3",
      "language": "python",
      "name": "python3"
    },
    "language_info": {
      "codemirror_mode": {
        "name": "ipython",
        "version": 3
      },
      "file_extension": ".py",
      "mimetype": "text/x-python",
      "name": "python",
      "nbconvert_exporter": "python",
      "pygments_lexer": "ipython3",
      "version": "3.8.3"
    }
  },
  "cells": [
    {
      "cell_type": "markdown",
      "metadata": {
        "id": "zhUqRga15uML"
      },
      "source": [
        "# Unit Challenge #4"
      ]
    },
    {
      "cell_type": "markdown",
      "metadata": {
        "id": "bYFVrP6g5uMM"
      },
      "source": [
        "An **isogram** is a word that has no repeating letters, consecutive or nonconsecutive. \n",
        "\n",
        "Create a program that checks a variable, `text`, containing a random English word, and prints a statement of either \"`text` is an isogram\"  or \"`text` is not an isogram\" depending on whether or not the word is an \"isogram\".\n",
        "\n",
        "Examples:\n",
        "\n",
        "- \"ambidextrous\" is an isogram because none of the letters repeat.\n",
        "\n",
        "- \"password\" is not an isogram because there is more than one letter 's'\n",
        "\n",
        "- \"strength\" is not an isogram because there is more than one letter 't'\n",
        "\n",
        "\n",
        "\n",
        "Things that might help:\n",
        "* Your knowledge of dictionaries\n",
        "* The use of the .lower() method (look this up in python documentation)\n",
        "* The use of for-loops and conditionals\n",
        "* The use of boolean values (True or False)\n"
      ]
    },
    {
      "cell_type": "code",
      "metadata": {
        "id": "NJY3lpCe8R1a"
      },
      "source": [
        "import pandas as pd\n",
        "import numpy as np\n"
      ],
      "execution_count": null,
      "outputs": []
    },
    {
      "cell_type": "code",
      "metadata": {
        "id": "mXSpe1Wi5uMN"
      },
      "source": [
        "#This cell will hold the text you are checking\n",
        "text = \"Apple\"\n",
        "#More examples (uncomment the following to test them out):\n",
        "#text = \"math\"\n",
        "#text = \"igloo\"\n",
        "#text = \"I\""
      ],
      "execution_count": null,
      "outputs": []
    },
    {
      "cell_type": "code",
      "metadata": {
        "colab": {
          "base_uri": "https://localhost:8080/"
        },
        "id": "5hgDynob5uMQ",
        "outputId": "aafe073c-ff93-4455-da6a-44550c9580ee"
      },
      "source": [
        "#Code goes here\n",
        "y = text.lower()\n",
        "isoDict = {}\n",
        "ig = True\n",
        "for i in y:\n",
        "  if isoDict.get(i) == None:\n",
        "    isoDict.update({i: 1})\n",
        "  else:\n",
        "    ig = False\n",
        "    break\n",
        "\n",
        "if ig:\n",
        "  print(text + \" is an isogram\")\n",
        "else:\n",
        "  print(text + \" is not an isogram\")"
      ],
      "execution_count": null,
      "outputs": [
        {
          "output_type": "stream",
          "text": [
            "Apple is not an isogram\n"
          ],
          "name": "stdout"
        }
      ]
    },
    {
      "cell_type": "markdown",
      "metadata": {
        "id": "lcXE6Uys5uMR"
      },
      "source": [
        "Now use your knowledge of functions to change the above code into a function named `isogramChecker`!"
      ]
    },
    {
      "cell_type": "code",
      "metadata": {
        "id": "NE0sSE3q5uMR"
      },
      "source": [
        "#Function definition goes here\n",
        "def isogramChecker(text):\n",
        "  y = text.lower()\n",
        "  isoDict = {}\n",
        "  ig = True\n",
        "  for i in y:\n",
        "    if isoDict.get(i) == None:\n",
        "      isoDict.update({i: 1})\n",
        "    else:\n",
        "      ig = False\n",
        "      break\n",
        "\n",
        "  if ig:\n",
        "    print(text + \" is an isogram\")\n",
        "  else:\n",
        "   print(text + \" is not an isogram\")\n",
        "\n",
        "   "
      ],
      "execution_count": null,
      "outputs": []
    },
    {
      "cell_type": "code",
      "metadata": {
        "id": "MQCtNBAU5uMS",
        "colab": {
          "base_uri": "https://localhost:8080/"
        },
        "outputId": "dfb51849-c817-4c26-9e87-a10d24d6097f"
      },
      "source": [
        "#Call the function to test it!\n",
        "isogramChecker(text)"
      ],
      "execution_count": null,
      "outputs": [
        {
          "output_type": "stream",
          "text": [
            "Apple is not an isogram\n"
          ],
          "name": "stdout"
        }
      ]
    },
    {
      "cell_type": "code",
      "metadata": {
        "id": "S0lkKFpR5uMS"
      },
      "source": [
        ""
      ],
      "execution_count": null,
      "outputs": []
    },
    {
      "cell_type": "code",
      "metadata": {
        "id": "CF3dFtP55uMS"
      },
      "source": [
        ""
      ],
      "execution_count": null,
      "outputs": []
    },
    {
      "cell_type": "code",
      "metadata": {
        "id": "d6Mb_LTQ5uMT"
      },
      "source": [
        ""
      ],
      "execution_count": null,
      "outputs": []
    }
  ]
}